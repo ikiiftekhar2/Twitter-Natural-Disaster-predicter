{
  "nbformat": 4,
  "nbformat_minor": 0,
  "metadata": {
    "colab": {
      "name": "NLP Practice.ipynb",
      "provenance": []
    },
    "kernelspec": {
      "name": "python3",
      "display_name": "Python 3"
    },
    "language_info": {
      "name": "python"
    },
    "accelerator": "GPU"
  },
  "cells": [
    {
      "cell_type": "markdown",
      "metadata": {
        "id": "oNrrmDaJRuox"
      },
      "source": [
        "# **Using Natural Language Processing to predict if the tweets are real or not**\n",
        "Dataset link = https://www.kaggle.com/c/nlp-getting-started/data "
      ]
    },
    {
      "cell_type": "code",
      "metadata": {
        "colab": {
          "base_uri": "https://localhost:8080/"
        },
        "id": "bMHA9tbAoQzE",
        "outputId": "c9505f0a-5622-47c4-bc66-9cff2bf2963a"
      },
      "source": [
        "!wget \"https://storage.googleapis.com/ztm_tf_course/nlp_getting_started.zip\"\n",
        "!wget \"https://raw.githubusercontent.com/mrdbourke/tensorflow-deep-learning/main/extras/helper_functions.py\"\n",
        "\n",
        "\n",
        "from helper_functions import *\n",
        "\n",
        "unzip_data(\"nlp_getting_started.zip\")"
      ],
      "execution_count": 1,
      "outputs": [
        {
          "output_type": "stream",
          "name": "stdout",
          "text": [
            "--2021-11-09 01:35:29--  https://storage.googleapis.com/ztm_tf_course/nlp_getting_started.zip\n",
            "Resolving storage.googleapis.com (storage.googleapis.com)... 173.194.197.128, 64.233.191.128, 173.194.74.128, ...\n",
            "Connecting to storage.googleapis.com (storage.googleapis.com)|173.194.197.128|:443... connected.\n",
            "HTTP request sent, awaiting response... 200 OK\n",
            "Length: 607343 (593K) [application/zip]\n",
            "Saving to: ‘nlp_getting_started.zip.1’\n",
            "\n",
            "\r          nlp_getti   0%[                    ]       0  --.-KB/s               \rnlp_getting_started 100%[===================>] 593.11K  --.-KB/s    in 0.007s  \n",
            "\n",
            "2021-11-09 01:35:29 (80.9 MB/s) - ‘nlp_getting_started.zip.1’ saved [607343/607343]\n",
            "\n",
            "--2021-11-09 01:35:29--  https://raw.githubusercontent.com/mrdbourke/tensorflow-deep-learning/main/extras/helper_functions.py\n",
            "Resolving raw.githubusercontent.com (raw.githubusercontent.com)... 185.199.108.133, 185.199.109.133, 185.199.110.133, ...\n",
            "Connecting to raw.githubusercontent.com (raw.githubusercontent.com)|185.199.108.133|:443... connected.\n",
            "HTTP request sent, awaiting response... 200 OK\n",
            "Length: 10246 (10K) [text/plain]\n",
            "Saving to: ‘helper_functions.py.1’\n",
            "\n",
            "helper_functions.py 100%[===================>]  10.01K  --.-KB/s    in 0s      \n",
            "\n",
            "2021-11-09 01:35:29 (41.8 MB/s) - ‘helper_functions.py.1’ saved [10246/10246]\n",
            "\n"
          ]
        }
      ]
    },
    {
      "cell_type": "code",
      "metadata": {
        "colab": {
          "base_uri": "https://localhost:8080/",
          "height": 203
        },
        "id": "hwx7eT6Xof2A",
        "outputId": "f17e20d3-756c-4010-8697-d0bcdc5a79c6"
      },
      "source": [
        "import pandas as pd\n",
        "train_df = pd.read_csv(\"train.csv\")\n",
        "test_df = pd.read_csv(\"test.csv\")\n",
        "train_df.head()"
      ],
      "execution_count": 2,
      "outputs": [
        {
          "output_type": "execute_result",
          "data": {
            "text/html": [
              "<div>\n",
              "<style scoped>\n",
              "    .dataframe tbody tr th:only-of-type {\n",
              "        vertical-align: middle;\n",
              "    }\n",
              "\n",
              "    .dataframe tbody tr th {\n",
              "        vertical-align: top;\n",
              "    }\n",
              "\n",
              "    .dataframe thead th {\n",
              "        text-align: right;\n",
              "    }\n",
              "</style>\n",
              "<table border=\"1\" class=\"dataframe\">\n",
              "  <thead>\n",
              "    <tr style=\"text-align: right;\">\n",
              "      <th></th>\n",
              "      <th>id</th>\n",
              "      <th>keyword</th>\n",
              "      <th>location</th>\n",
              "      <th>text</th>\n",
              "      <th>target</th>\n",
              "    </tr>\n",
              "  </thead>\n",
              "  <tbody>\n",
              "    <tr>\n",
              "      <th>0</th>\n",
              "      <td>1</td>\n",
              "      <td>NaN</td>\n",
              "      <td>NaN</td>\n",
              "      <td>Our Deeds are the Reason of this #earthquake M...</td>\n",
              "      <td>1</td>\n",
              "    </tr>\n",
              "    <tr>\n",
              "      <th>1</th>\n",
              "      <td>4</td>\n",
              "      <td>NaN</td>\n",
              "      <td>NaN</td>\n",
              "      <td>Forest fire near La Ronge Sask. Canada</td>\n",
              "      <td>1</td>\n",
              "    </tr>\n",
              "    <tr>\n",
              "      <th>2</th>\n",
              "      <td>5</td>\n",
              "      <td>NaN</td>\n",
              "      <td>NaN</td>\n",
              "      <td>All residents asked to 'shelter in place' are ...</td>\n",
              "      <td>1</td>\n",
              "    </tr>\n",
              "    <tr>\n",
              "      <th>3</th>\n",
              "      <td>6</td>\n",
              "      <td>NaN</td>\n",
              "      <td>NaN</td>\n",
              "      <td>13,000 people receive #wildfires evacuation or...</td>\n",
              "      <td>1</td>\n",
              "    </tr>\n",
              "    <tr>\n",
              "      <th>4</th>\n",
              "      <td>7</td>\n",
              "      <td>NaN</td>\n",
              "      <td>NaN</td>\n",
              "      <td>Just got sent this photo from Ruby #Alaska as ...</td>\n",
              "      <td>1</td>\n",
              "    </tr>\n",
              "  </tbody>\n",
              "</table>\n",
              "</div>"
            ],
            "text/plain": [
              "   id keyword  ...                                               text target\n",
              "0   1     NaN  ...  Our Deeds are the Reason of this #earthquake M...      1\n",
              "1   4     NaN  ...             Forest fire near La Ronge Sask. Canada      1\n",
              "2   5     NaN  ...  All residents asked to 'shelter in place' are ...      1\n",
              "3   6     NaN  ...  13,000 people receive #wildfires evacuation or...      1\n",
              "4   7     NaN  ...  Just got sent this photo from Ruby #Alaska as ...      1\n",
              "\n",
              "[5 rows x 5 columns]"
            ]
          },
          "metadata": {},
          "execution_count": 2
        }
      ]
    },
    {
      "cell_type": "code",
      "metadata": {
        "colab": {
          "base_uri": "https://localhost:8080/"
        },
        "id": "FIZyay_RrCRn",
        "outputId": "b6aa1d96-f419-4eb4-9db0-7cf96a1fb26a"
      },
      "source": [
        "train_df_shuffled = train_df.sample(frac=1, random_state=42)\n",
        "train_df_shuffled.head()\n",
        "train_df.target.value_counts()"
      ],
      "execution_count": 3,
      "outputs": [
        {
          "output_type": "execute_result",
          "data": {
            "text/plain": [
              "0    4342\n",
              "1    3271\n",
              "Name: target, dtype: int64"
            ]
          },
          "metadata": {},
          "execution_count": 3
        }
      ]
    },
    {
      "cell_type": "markdown",
      "metadata": {
        "id": "KOYZh7RjQEf6"
      },
      "source": [
        "**Pre processing data**"
      ]
    },
    {
      "cell_type": "code",
      "metadata": {
        "colab": {
          "base_uri": "https://localhost:8080/"
        },
        "id": "m2OfJoC0rioP",
        "outputId": "33c7f0fa-206f-4283-a360-e701e1683147"
      },
      "source": [
        "from sklearn.model_selection import train_test_split\n",
        "\n",
        "train_sentences, val_sentences, train_labels, val_labels = train_test_split(train_df_shuffled[\"text\"].to_numpy(),\n",
        "                                                                            train_df_shuffled[\"target\"].to_numpy(),\n",
        "                                                                            test_size=0.1, # dedicate 10% of samples to validation set\n",
        "                                                                            random_state=42)\n",
        "train_sentences[:10], train_labels[:10]"
      ],
      "execution_count": 4,
      "outputs": [
        {
          "output_type": "execute_result",
          "data": {
            "text/plain": [
              "(array(['@mogacola @zamtriossu i screamed after hitting tweet',\n",
              "        'Imagine getting flattened by Kurt Zouma',\n",
              "        '@Gurmeetramrahim #MSGDoing111WelfareWorks Green S welfare force ke appx 65000 members har time disaster victim ki help ke liye tyar hai....',\n",
              "        \"@shakjn @C7 @Magnums im shaking in fear he's gonna hack the planet\",\n",
              "        'Somehow find you and I collide http://t.co/Ee8RpOahPk',\n",
              "        '@EvaHanderek @MarleyKnysh great times until the bus driver held us hostage in the mall parking lot lmfao',\n",
              "        'destroy the free fandom honestly',\n",
              "        'Weapons stolen from National Guard Armory in New Albany still missing #Gunsense http://t.co/lKNU8902JE',\n",
              "        '@wfaaweather Pete when will the heat wave pass? Is it really going to be mid month? Frisco Boy Scouts have a canoe trip in Okla.',\n",
              "        'Patient-reported outcomes in long-term survivors of metastatic colorectal cancer - British Journal of Surgery http://t.co/5Yl4DC1Tqt'],\n",
              "       dtype=object), array([0, 0, 1, 0, 0, 1, 1, 0, 1, 1]))"
            ]
          },
          "metadata": {},
          "execution_count": 4
        }
      ]
    },
    {
      "cell_type": "markdown",
      "metadata": {
        "id": "_3Z2ylObQR02"
      },
      "source": [
        "**Building Custom Text Vectorizer model**"
      ]
    },
    {
      "cell_type": "code",
      "metadata": {
        "id": "716kzxFar1-n"
      },
      "source": [
        "\n",
        "import tensorflow as tf\n",
        "from tensorflow.keras.layers.experimental.preprocessing import TextVectorization\n",
        "\n",
        "# Use the default TextVectorization\n",
        "text_vectorizer = TextVectorization(max_tokens=None, # how many words in the vocabulary (all of the different words in your text)\n",
        "                                    standardize=\"lower_and_strip_punctuation\", # how to process text\n",
        "                                    split=\"whitespace\", # how to split tokens\n",
        "                                    ngrams=None, # create groups of n-words?\n",
        "                                    output_mode=\"int\", # how to map tokens to numbers\n",
        "                                    output_sequence_length=None, # how long should the output sequence of tokens be?\n",
        "                                    )\n",
        "max_vocab_length = 10000 # max number of words to have in our vocabulary\n",
        "max_length = 15 # max length our sequences will be (e.g. how many words from a Tweet does our model see?)\n",
        "\n",
        "text_vectorizer = TextVectorization(max_tokens=max_vocab_length,\n",
        "                                    output_mode=\"int\",\n",
        "                                    output_sequence_length=max_length)\n",
        "text_vectorizer.adapt(train_sentences)"
      ],
      "execution_count": 5,
      "outputs": []
    },
    {
      "cell_type": "code",
      "metadata": {
        "colab": {
          "base_uri": "https://localhost:8080/"
        },
        "id": "vtZlwMnsuBDP",
        "outputId": "a9780e18-c84c-491a-f0b6-bf528452ea82"
      },
      "source": [
        "words_in_vocab = text_vectorizer.get_vocabulary()\n",
        "top_5_words = words_in_vocab[:5] # most common tokens (notice the [UNK] token for \"unknown\" words)\n",
        "bottom_5_words = words_in_vocab[-5:] # least common tokens\n",
        "print(f\"Number of words in vocab: {len(words_in_vocab)}\")\n",
        "print(f\"Top 5 most common words: {top_5_words}\") \n",
        "print(f\"Bottom 5 least common words: {bottom_5_words}\")"
      ],
      "execution_count": 6,
      "outputs": [
        {
          "output_type": "stream",
          "name": "stdout",
          "text": [
            "Number of words in vocab: 10000\n",
            "Top 5 most common words: ['', '[UNK]', 'the', 'a', 'in']\n",
            "Bottom 5 least common words: ['pages', 'paeds', 'pads', 'padres', 'paddytomlinson1']\n"
          ]
        }
      ]
    },
    {
      "cell_type": "markdown",
      "metadata": {
        "id": "038lpd_kQb6r"
      },
      "source": [
        "**Building custom embedding layer based on vocabulary available**"
      ]
    },
    {
      "cell_type": "code",
      "metadata": {
        "id": "97Dej4s-uEXO"
      },
      "source": [
        "\n",
        "from tensorflow.keras import layers\n",
        "\n",
        "embedding = layers.Embedding(input_dim=max_vocab_length, # set input shape\n",
        "                             output_dim=128, # set size of embedding vector\n",
        "                             embeddings_initializer=\"uniform\", # default, intialize randomly\n",
        "                             input_length=max_length) # how long is each input\n"
      ],
      "execution_count": 7,
      "outputs": []
    },
    {
      "cell_type": "code",
      "metadata": {
        "colab": {
          "base_uri": "https://localhost:8080/"
        },
        "id": "LyzbElFUucjn",
        "outputId": "da1efe8e-02cb-4d6e-aa6d-84125268a777"
      },
      "source": [
        "import random\n",
        "random_sentence = random.choice(train_sentences)\n",
        "print(f\"Original text:\\n{random_sentence}\\\n",
        "      \\n\\nEmbedded version:\")\n",
        "\n",
        "# Embed the random sentence (turn it into numerical representation)\n",
        "sample_embed = embedding(text_vectorizer([random_sentence]))\n",
        "sample_embed"
      ],
      "execution_count": 8,
      "outputs": [
        {
          "output_type": "stream",
          "name": "stdout",
          "text": [
            "Original text:\n",
            "I added a video to a @YouTube playlist http://t.co/bcjYleRRYX Ori and the Bind forest ep 6 'Fire and death'      \n",
            "\n",
            "Embedded version:\n"
          ]
        },
        {
          "output_type": "execute_result",
          "data": {
            "text/plain": [
              "<tf.Tensor: shape=(1, 15, 128), dtype=float32, numpy=\n",
              "array([[[ 0.01006157,  0.01183497,  0.00228188, ..., -0.00199648,\n",
              "         -0.04229118,  0.0008131 ],\n",
              "        [-0.02285802,  0.02170334,  0.01093993, ...,  0.00857978,\n",
              "          0.02893255, -0.03940213],\n",
              "        [-0.04373548,  0.04821594,  0.01130601, ...,  0.0400458 ,\n",
              "          0.02680952,  0.04841613],\n",
              "        ...,\n",
              "        [-0.008319  , -0.0497268 ,  0.01943761, ..., -0.03108682,\n",
              "         -0.02022816,  0.03449004],\n",
              "        [-0.03409195,  0.03103853,  0.02599326, ..., -0.04754407,\n",
              "         -0.03045726,  0.03502897],\n",
              "        [-0.02906351, -0.02395953, -0.03820252, ..., -0.01187805,\n",
              "         -0.01476844,  0.02150441]]], dtype=float32)>"
            ]
          },
          "metadata": {},
          "execution_count": 8
        }
      ]
    },
    {
      "cell_type": "markdown",
      "metadata": {
        "id": "WkIau4K-Q9q0"
      },
      "source": [
        "**Making a basic classification with one output by using MaxPooling**"
      ]
    },
    {
      "cell_type": "code",
      "metadata": {
        "id": "ZqkVgOG7uc8v"
      },
      "source": [
        "epoks = 15"
      ],
      "execution_count": 9,
      "outputs": []
    },
    {
      "cell_type": "code",
      "metadata": {
        "id": "d6AqxA1Qm0Yb"
      },
      "source": [
        "logz = \"logzzz\"\n",
        "\n",
        "import tensorflow as tf\n",
        "from tensorflow.keras import layers"
      ],
      "execution_count": 10,
      "outputs": []
    },
    {
      "cell_type": "code",
      "metadata": {
        "id": "RPnIt73vxUq0"
      },
      "source": [
        "ins = layers.Input(shape=(1,), dtype=tf.string)\n",
        "x = text_vectorizer(ins)\n",
        "x = embedding(x)\n",
        "x = layers.GlobalMaxPooling1D()(x)\n",
        "outs = layers.Dense(1, activation = \"sigmoid\")(x)\n",
        "model_1 = tf.keras.Model(ins,outs)"
      ],
      "execution_count": 11,
      "outputs": []
    },
    {
      "cell_type": "code",
      "metadata": {
        "colab": {
          "base_uri": "https://localhost:8080/"
        },
        "id": "l5osM024yRCV",
        "outputId": "ed58792a-6d07-480a-eeee-5acdf3fa93e6"
      },
      "source": [
        "model_1.summary()"
      ],
      "execution_count": 12,
      "outputs": [
        {
          "output_type": "stream",
          "name": "stdout",
          "text": [
            "Model: \"model\"\n",
            "_________________________________________________________________\n",
            "Layer (type)                 Output Shape              Param #   \n",
            "=================================================================\n",
            "input_1 (InputLayer)         [(None, 1)]               0         \n",
            "_________________________________________________________________\n",
            "text_vectorization_1 (TextVe (None, 15)                0         \n",
            "_________________________________________________________________\n",
            "embedding (Embedding)        (None, 15, 128)           1280000   \n",
            "_________________________________________________________________\n",
            "global_max_pooling1d (Global (None, 128)               0         \n",
            "_________________________________________________________________\n",
            "dense (Dense)                (None, 1)                 129       \n",
            "=================================================================\n",
            "Total params: 1,280,129\n",
            "Trainable params: 1,280,129\n",
            "Non-trainable params: 0\n",
            "_________________________________________________________________\n"
          ]
        }
      ]
    },
    {
      "cell_type": "code",
      "metadata": {
        "id": "qf_O_HZtyYMr"
      },
      "source": [
        "model_1.compile(loss = \"binary_crossentropy\",\n",
        "                optimizer = tf.keras.optimizers.Adam(),\n",
        "                metrics = [\"accuracy\"])"
      ],
      "execution_count": 13,
      "outputs": []
    },
    {
      "cell_type": "code",
      "metadata": {
        "colab": {
          "base_uri": "https://localhost:8080/"
        },
        "id": "kNo-XDIeyzd7",
        "outputId": "f97f21e6-ce02-45e6-df32-eab2321efc03"
      },
      "source": [
        "track1 = model_1.fit(train_sentences,train_labels, epochs = 5,\n",
        "                   validation_data = (val_sentences,val_labels),\n",
        "                   callbacks = [create_tensorboard_callback(\"trainin\",\"uno\")])"
      ],
      "execution_count": 14,
      "outputs": [
        {
          "output_type": "stream",
          "name": "stdout",
          "text": [
            "Saving TensorBoard log files to: trainin/uno/20211109-013533\n",
            "Epoch 1/5\n",
            "215/215 [==============================] - 5s 10ms/step - loss: 0.6362 - accuracy: 0.6538 - val_loss: 0.5718 - val_accuracy: 0.7585\n",
            "Epoch 2/5\n",
            "215/215 [==============================] - 2s 8ms/step - loss: 0.4674 - accuracy: 0.8272 - val_loss: 0.4714 - val_accuracy: 0.7861\n",
            "Epoch 3/5\n",
            "215/215 [==============================] - 2s 8ms/step - loss: 0.3406 - accuracy: 0.8740 - val_loss: 0.4513 - val_accuracy: 0.7900\n",
            "Epoch 4/5\n",
            "215/215 [==============================] - 2s 8ms/step - loss: 0.2575 - accuracy: 0.9085 - val_loss: 0.4508 - val_accuracy: 0.7953\n",
            "Epoch 5/5\n",
            "215/215 [==============================] - 2s 8ms/step - loss: 0.1986 - accuracy: 0.9320 - val_loss: 0.4616 - val_accuracy: 0.7927\n"
          ]
        }
      ]
    },
    {
      "cell_type": "markdown",
      "metadata": {
        "id": "H9fhswOFRVGV"
      },
      "source": [
        "Plotting loss curves"
      ]
    },
    {
      "cell_type": "code",
      "metadata": {
        "colab": {
          "base_uri": "https://localhost:8080/",
          "height": 573
        },
        "id": "fg2KKNl9zJkK",
        "outputId": "5e7a8731-a317-40f4-c86f-c205eae2ed70"
      },
      "source": [
        "plot_loss_curves(track1)"
      ],
      "execution_count": 15,
      "outputs": [
        {
          "output_type": "display_data",
          "data": {
            "image/png": "[encoded data removed]",
            "text/plain": [
              "<Figure size 432x288 with 1 Axes>"
            ]
          },
          "metadata": {
            "needs_background": "light"
          }
        },
        {
          "output_type": "display_data",
          "data": {
            "image/png": "[encoded data removed]",
            "text/plain": [
              "<Figure size 432x288 with 1 Axes>"
            ]
          },
          "metadata": {
            "needs_background": "light"
          }
        }
      ]
    },
    {
      "cell_type": "code",
      "metadata": {
        "colab": {
          "base_uri": "https://localhost:8080/"
        },
        "id": "JI7bhEatz1cD",
        "outputId": "77acb542-93b7-4ec2-d2bf-ee6e630fff4d"
      },
      "source": [
        "model_1_pred_probs = model_1.predict(val_sentences)\n",
        "model_1_pred_probs[:10]"
      ],
      "execution_count": 16,
      "outputs": [
        {
          "output_type": "execute_result",
          "data": {
            "text/plain": [
              "array([[0.42011425],\n",
              "       [0.816369  ],\n",
              "       [0.9933651 ],\n",
              "       [0.06171225],\n",
              "       [0.2917188 ],\n",
              "       [0.961784  ],\n",
              "       [0.9197166 ],\n",
              "       [0.98952776],\n",
              "       [0.9274107 ],\n",
              "       [0.11831915]], dtype=float32)"
            ]
          },
          "metadata": {},
          "execution_count": 16
        }
      ]
    },
    {
      "cell_type": "markdown",
      "metadata": {
        "id": "trbtdvjtShHD"
      },
      "source": [
        "Model Result Analysis"
      ]
    },
    {
      "cell_type": "code",
      "metadata": {
        "colab": {
          "base_uri": "https://localhost:8080/"
        },
        "id": "GR5XWWjv0SX8",
        "outputId": "2afd9733-b554-4635-f29d-c566e54544c8"
      },
      "source": [
        "model_1_preds = tf.squeeze(tf.round(model_1_pred_probs))\n",
        "model_1_preds[:20]\n",
        "model_1_results = calculate_results(y_true=val_labels, \n",
        "                                    y_pred=model_1_preds)\n",
        "model_1_results"
      ],
      "execution_count": 17,
      "outputs": [
        {
          "output_type": "execute_result",
          "data": {
            "text/plain": [
              "{'accuracy': 79.26509186351706,\n",
              " 'f1': 0.7897346702572751,\n",
              " 'precision': 0.7977980796415257,\n",
              " 'recall': 0.7926509186351706}"
            ]
          },
          "metadata": {},
          "execution_count": 17
        }
      ]
    },
    {
      "cell_type": "markdown",
      "metadata": {
        "id": "m1fNgSiWSKcH"
      },
      "source": [
        "**Experimenting a classification model using LTSM**"
      ]
    },
    {
      "cell_type": "code",
      "metadata": {
        "colab": {
          "base_uri": "https://localhost:8080/"
        },
        "id": "LZo96HDf0WOj",
        "outputId": "b304c3a4-e457-4d65-ff01-09dbb9400c3f"
      },
      "source": [
        "inp = layers.Input(shape=(1,),dtype=tf.string)\n",
        "x = text_vectorizer(inp)\n",
        "x = embedding(x)\n",
        "x = layers.LSTM(64,return_sequences= True)(x)\n",
        "x = layers.LSTM(64)(x)\n",
        "x = layers.Dense(64,activation = \"relu\")(x)\n",
        "outz = layers.Dense(1,activation=\"sigmoid\")(x)\n",
        "\n",
        "model_2= tf.keras.Model(inp,outz)\n",
        "model_2.summary()"
      ],
      "execution_count": 18,
      "outputs": [
        {
          "output_type": "stream",
          "name": "stdout",
          "text": [
            "Model: \"model_1\"\n",
            "_________________________________________________________________\n",
            "Layer (type)                 Output Shape              Param #   \n",
            "=================================================================\n",
            "input_2 (InputLayer)         [(None, 1)]               0         \n",
            "_________________________________________________________________\n",
            "text_vectorization_1 (TextVe (None, 15)                0         \n",
            "_________________________________________________________________\n",
            "embedding (Embedding)        (None, 15, 128)           1280000   \n",
            "_________________________________________________________________\n",
            "lstm (LSTM)                  (None, 15, 64)            49408     \n",
            "_________________________________________________________________\n",
            "lstm_1 (LSTM)                (None, 64)                33024     \n",
            "_________________________________________________________________\n",
            "dense_1 (Dense)              (None, 64)                4160      \n",
            "_________________________________________________________________\n",
            "dense_2 (Dense)              (None, 1)                 65        \n",
            "=================================================================\n",
            "Total params: 1,366,657\n",
            "Trainable params: 1,366,657\n",
            "Non-trainable params: 0\n",
            "_________________________________________________________________\n"
          ]
        }
      ]
    },
    {
      "cell_type": "code",
      "metadata": {
        "colab": {
          "base_uri": "https://localhost:8080/"
        },
        "id": "8-C3PQrQ5Bot",
        "outputId": "707a88a5-baff-429e-b1fa-38845d28c330"
      },
      "source": [
        "model_2.compile(loss = \"binary_crossentropy\",\n",
        "                optimizer = tf.keras.optimizers.Adam(),\n",
        "                metrics = [\"accuracy\"])\n",
        "track2 = model_2.fit(train_sentences,train_labels, epochs = 5,\n",
        "                   validation_data = (val_sentences,val_labels),\n",
        "                   callbacks = [create_tensorboard_callback(\"trainin\",\"dos\")])"
      ],
      "execution_count": 19,
      "outputs": [
        {
          "output_type": "stream",
          "name": "stdout",
          "text": [
            "Saving TensorBoard log files to: trainin/dos/20211109-013547\n",
            "Epoch 1/5\n",
            "215/215 [==============================] - 11s 23ms/step - loss: 0.3768 - accuracy: 0.8441 - val_loss: 0.4678 - val_accuracy: 0.7861\n",
            "Epoch 2/5\n",
            "215/215 [==============================] - 3s 16ms/step - loss: 0.2449 - accuracy: 0.9031 - val_loss: 0.5278 - val_accuracy: 0.7822\n",
            "Epoch 3/5\n",
            "215/215 [==============================] - 3s 16ms/step - loss: 0.1799 - accuracy: 0.9340 - val_loss: 0.5478 - val_accuracy: 0.7835\n",
            "Epoch 4/5\n",
            "215/215 [==============================] - 3s 16ms/step - loss: 0.1511 - accuracy: 0.9472 - val_loss: 0.7186 - val_accuracy: 0.7677\n",
            "Epoch 5/5\n",
            "215/215 [==============================] - 3s 16ms/step - loss: 0.1075 - accuracy: 0.9612 - val_loss: 1.0495 - val_accuracy: 0.7612\n"
          ]
        }
      ]
    },
    {
      "cell_type": "markdown",
      "metadata": {
        "id": "Szo2OWm9SmAC"
      },
      "source": [
        "Plotting loss curves"
      ]
    },
    {
      "cell_type": "code",
      "metadata": {
        "colab": {
          "base_uri": "https://localhost:8080/",
          "height": 573
        },
        "id": "SPdaqDQb5bMo",
        "outputId": "92a5d40b-5ca9-40b3-dced-6c9dfffb46dc"
      },
      "source": [
        "plot_loss_curves(track2)"
      ],
      "execution_count": 20,
      "outputs": [
        {
          "output_type": "display_data",
          "data": {
            "image/png": "[encoded data removed]",
            "text/plain": [
              "<Figure size 432x288 with 1 Axes>"
            ]
          },
          "metadata": {
            "needs_background": "light"
          }
        },
        {
          "output_type": "display_data",
          "data": {
            "image/png": "[encoded data removed]",
            "text/plain": [
              "<Figure size 432x288 with 1 Axes>"
            ]
          },
          "metadata": {
            "needs_background": "light"
          }
        }
      ]
    },
    {
      "cell_type": "markdown",
      "metadata": {
        "id": "UuXdMpJeSsx9"
      },
      "source": [
        "Model Results Analysis"
      ]
    },
    {
      "cell_type": "code",
      "metadata": {
        "colab": {
          "base_uri": "https://localhost:8080/"
        },
        "id": "iNx6Sc-y5iEp",
        "outputId": "d95bc80f-a742-48c7-9b64-fd9ee466776c"
      },
      "source": [
        "model_1_pred_probs = model_2.predict(val_sentences)\n",
        "model_1_preds = tf.squeeze(tf.round(model_1_pred_probs))\n",
        "model_1_preds[:20]\n",
        "model_1_results = calculate_results(y_true=val_labels, \n",
        "                                    y_pred=model_1_preds)\n",
        "model_1_results"
      ],
      "execution_count": 21,
      "outputs": [
        {
          "output_type": "execute_result",
          "data": {
            "text/plain": [
              "{'accuracy': 76.11548556430446,\n",
              " 'f1': 0.7602537798972311,\n",
              " 'precision': 0.7608818684574628,\n",
              " 'recall': 0.7611548556430446}"
            ]
          },
          "metadata": {},
          "execution_count": 21
        }
      ]
    },
    {
      "cell_type": "markdown",
      "metadata": {
        "id": "N77bovJPSVBS"
      },
      "source": [
        "**Experimenting with model using both LTSM and GRU**"
      ]
    },
    {
      "cell_type": "code",
      "metadata": {
        "id": "1KfFclXK537r",
        "colab": {
          "base_uri": "https://localhost:8080/"
        },
        "outputId": "2addff6c-ea36-4e1d-9a18-f6ec81c59df8"
      },
      "source": [
        "inp = layers.Input(shape=(1,),dtype=tf.string)\n",
        "x = text_vectorizer(inp)\n",
        "x = embedding(x)\n",
        "x = layers.GRU(64,return_sequences= True)(x)\n",
        "x = layers.LSTM(64,return_sequences= True)(x)\n",
        "x = layers.GRU(64,return_sequences= True)(x)\n",
        "x = layers.GlobalAveragePooling1D()(x)\n",
        "outz = layers.Dense(1,activation=\"sigmoid\")(x)\n",
        "\n",
        "model_3= tf.keras.Model(inp,outz)\n",
        "model_3.summary()"
      ],
      "execution_count": 22,
      "outputs": [
        {
          "output_type": "stream",
          "name": "stdout",
          "text": [
            "Model: \"model_2\"\n",
            "_________________________________________________________________\n",
            "Layer (type)                 Output Shape              Param #   \n",
            "=================================================================\n",
            "input_3 (InputLayer)         [(None, 1)]               0         \n",
            "_________________________________________________________________\n",
            "text_vectorization_1 (TextVe (None, 15)                0         \n",
            "_________________________________________________________________\n",
            "embedding (Embedding)        (None, 15, 128)           1280000   \n",
            "_________________________________________________________________\n",
            "gru (GRU)                    (None, 15, 64)            37248     \n",
            "_________________________________________________________________\n",
            "lstm_2 (LSTM)                (None, 15, 64)            33024     \n",
            "_________________________________________________________________\n",
            "gru_1 (GRU)                  (None, 15, 64)            24960     \n",
            "_________________________________________________________________\n",
            "global_average_pooling1d (Gl (None, 64)                0         \n",
            "_________________________________________________________________\n",
            "dense_3 (Dense)              (None, 1)                 65        \n",
            "=================================================================\n",
            "Total params: 1,375,297\n",
            "Trainable params: 1,375,297\n",
            "Non-trainable params: 0\n",
            "_________________________________________________________________\n"
          ]
        }
      ]
    },
    {
      "cell_type": "code",
      "metadata": {
        "colab": {
          "base_uri": "https://localhost:8080/"
        },
        "id": "GR0E-LwZ2oFo",
        "outputId": "6f623cbc-71c7-497b-bf8d-921f142deae2"
      },
      "source": [
        "model_3.compile(loss = \"binary_crossentropy\",\n",
        "                optimizer = tf.keras.optimizers.Adam(),\n",
        "                metrics = [\"accuracy\"])\n",
        "track3 = model_3.fit(train_sentences,train_labels, epochs = 5,\n",
        "                   validation_data = (val_sentences,val_labels),\n",
        "                   callbacks = [create_tensorboard_callback(\"trainin\",\"tres\")])"
      ],
      "execution_count": 23,
      "outputs": [
        {
          "output_type": "stream",
          "name": "stdout",
          "text": [
            "Saving TensorBoard log files to: trainin/tres/20211109-013615\n",
            "Epoch 1/5\n",
            "215/215 [==============================] - 12s 30ms/step - loss: 0.1979 - accuracy: 0.9186 - val_loss: 0.6838 - val_accuracy: 0.7690\n",
            "Epoch 2/5\n",
            "215/215 [==============================] - 4s 21ms/step - loss: 0.1106 - accuracy: 0.9600 - val_loss: 0.9145 - val_accuracy: 0.7756\n",
            "Epoch 3/5\n",
            "215/215 [==============================] - 5s 21ms/step - loss: 0.0801 - accuracy: 0.9666 - val_loss: 1.0573 - val_accuracy: 0.7651\n",
            "Epoch 4/5\n",
            "215/215 [==============================] - 5s 21ms/step - loss: 0.0650 - accuracy: 0.9710 - val_loss: 1.1477 - val_accuracy: 0.7585\n",
            "Epoch 5/5\n",
            "215/215 [==============================] - 4s 21ms/step - loss: 0.0579 - accuracy: 0.9734 - val_loss: 1.5377 - val_accuracy: 0.7651\n"
          ]
        }
      ]
    },
    {
      "cell_type": "markdown",
      "metadata": {
        "id": "JbdkL-sES-RJ"
      },
      "source": [
        "Plotting loss curves"
      ]
    },
    {
      "cell_type": "code",
      "metadata": {
        "colab": {
          "base_uri": "https://localhost:8080/",
          "height": 573
        },
        "id": "CNtuO4un2zIi",
        "outputId": "275d7715-5d4e-40c1-8177-8a9c71c231e5"
      },
      "source": [
        "plot_loss_curves(track3)"
      ],
      "execution_count": 24,
      "outputs": [
        {
          "output_type": "display_data",
          "data": {
            "image/png": "[encoded data removed]",
            "text/plain": [
              "<Figure size 432x288 with 1 Axes>"
            ]
          },
          "metadata": {
            "needs_background": "light"
          }
        },
        {
          "output_type": "display_data",
          "data": {
            "image/png": "[encoded data removed]",
            "text/plain": [
              "<Figure size 432x288 with 1 Axes>"
            ]
          },
          "metadata": {
            "needs_background": "light"
          }
        }
      ]
    },
    {
      "cell_type": "markdown",
      "metadata": {
        "id": "sCstfv4lTDBt"
      },
      "source": [
        "Model Results Analysis"
      ]
    },
    {
      "cell_type": "code",
      "metadata": {
        "colab": {
          "base_uri": "https://localhost:8080/"
        },
        "id": "kkRygzZk22hn",
        "outputId": "81f56d5d-31fb-42df-c832-735fe25890f8"
      },
      "source": [
        "model_1_pred_probs = model_3.predict(val_sentences)\n",
        "model_1_preds = tf.squeeze(tf.round(model_1_pred_probs))\n",
        "model_1_preds[:20]\n",
        "model_1_results = calculate_results(y_true=val_labels, \n",
        "                                    y_pred=model_1_preds)\n",
        "model_1_results"
      ],
      "execution_count": 25,
      "outputs": [
        {
          "output_type": "execute_result",
          "data": {
            "text/plain": [
              "{'accuracy': 76.50918635170603,\n",
              " 'f1': 0.7627590065822708,\n",
              " 'precision': 0.7669456967235844,\n",
              " 'recall': 0.7650918635170604}"
            ]
          },
          "metadata": {},
          "execution_count": 25
        }
      ]
    },
    {
      "cell_type": "markdown",
      "metadata": {
        "id": "im-YiSDLTMms"
      },
      "source": [
        "**Experimenting with Bidirectional LTSM and GRU**"
      ]
    },
    {
      "cell_type": "code",
      "metadata": {
        "colab": {
          "base_uri": "https://localhost:8080/"
        },
        "id": "FpbeFHDh3jcu",
        "outputId": "54b4d3e9-95e5-49e7-8cec-74182168d4de"
      },
      "source": [
        "inp = layers.Input(shape=(1,),dtype=tf.string)\n",
        "x = text_vectorizer(inp)\n",
        "x = embedding(x)\n",
        "x = layers.Bidirectional(layers.GRU(64,return_sequences= True))(x)\n",
        "x = layers.Bidirectional(layers.LSTM(64,return_sequences= True))(x)\n",
        "x = layers.Bidirectional(layers.GRU(64,return_sequences= True))(x)\n",
        "x = layers.GlobalAveragePooling1D()(x)\n",
        "outz = layers.Dense(1,activation=\"sigmoid\")(x)\n",
        "\n",
        "model_4= tf.keras.Model(inp,outz)\n",
        "model_4.summary()"
      ],
      "execution_count": 26,
      "outputs": [
        {
          "output_type": "stream",
          "name": "stdout",
          "text": [
            "Model: \"model_3\"\n",
            "_________________________________________________________________\n",
            "Layer (type)                 Output Shape              Param #   \n",
            "=================================================================\n",
            "input_4 (InputLayer)         [(None, 1)]               0         \n",
            "_________________________________________________________________\n",
            "text_vectorization_1 (TextVe (None, 15)                0         \n",
            "_________________________________________________________________\n",
            "embedding (Embedding)        (None, 15, 128)           1280000   \n",
            "_________________________________________________________________\n",
            "bidirectional (Bidirectional (None, 15, 128)           74496     \n",
            "_________________________________________________________________\n",
            "bidirectional_1 (Bidirection (None, 15, 128)           98816     \n",
            "_________________________________________________________________\n",
            "bidirectional_2 (Bidirection (None, 15, 128)           74496     \n",
            "_________________________________________________________________\n",
            "global_average_pooling1d_1 ( (None, 128)               0         \n",
            "_________________________________________________________________\n",
            "dense_4 (Dense)              (None, 1)                 129       \n",
            "=================================================================\n",
            "Total params: 1,527,937\n",
            "Trainable params: 1,527,937\n",
            "Non-trainable params: 0\n",
            "_________________________________________________________________\n"
          ]
        }
      ]
    },
    {
      "cell_type": "code",
      "metadata": {
        "colab": {
          "base_uri": "https://localhost:8080/"
        },
        "id": "esNi6Kdp7k13",
        "outputId": "ac2cb877-da91-408d-c4cc-a8c201e4b6e4"
      },
      "source": [
        "model_4.compile(loss = \"binary_crossentropy\",\n",
        "                optimizer = tf.keras.optimizers.Adam(),\n",
        "                metrics = [\"accuracy\"])\n",
        "track4 = model_4.fit(train_sentences,train_labels, epochs = 5,\n",
        "                   validation_data = (val_sentences,val_labels),\n",
        "                   callbacks = [create_tensorboard_callback(\"trainin\",\"tres\")])"
      ],
      "execution_count": 27,
      "outputs": [
        {
          "output_type": "stream",
          "name": "stdout",
          "text": [
            "Saving TensorBoard log files to: trainin/tres/20211109-013648\n",
            "Epoch 1/5\n",
            "215/215 [==============================] - 21s 51ms/step - loss: 0.1275 - accuracy: 0.9510 - val_loss: 0.9998 - val_accuracy: 0.7664\n",
            "Epoch 2/5\n",
            "215/215 [==============================] - 7s 35ms/step - loss: 0.0632 - accuracy: 0.9727 - val_loss: 1.5372 - val_accuracy: 0.7651\n",
            "Epoch 3/5\n",
            "215/215 [==============================] - 7s 34ms/step - loss: 0.0544 - accuracy: 0.9746 - val_loss: 1.5318 - val_accuracy: 0.7651\n",
            "Epoch 4/5\n",
            "215/215 [==============================] - 7s 34ms/step - loss: 0.0463 - accuracy: 0.9774 - val_loss: 1.4750 - val_accuracy: 0.7730\n",
            "Epoch 5/5\n",
            "215/215 [==============================] - 7s 35ms/step - loss: 0.0496 - accuracy: 0.9764 - val_loss: 1.4649 - val_accuracy: 0.7638\n"
          ]
        }
      ]
    },
    {
      "cell_type": "markdown",
      "metadata": {
        "id": "d5MPpQNJTmjw"
      },
      "source": [
        "Plotting loss curves"
      ]
    },
    {
      "cell_type": "code",
      "metadata": {
        "id": "z70MooeT7tQ7",
        "colab": {
          "base_uri": "https://localhost:8080/",
          "height": 573
        },
        "outputId": "2b0f5d28-1f8c-413d-893c-8292e710c610"
      },
      "source": [
        "plot_loss_curves(track4)"
      ],
      "execution_count": 28,
      "outputs": [
        {
          "output_type": "display_data",
          "data": {
            "image/png": "[encoded data removed]",
            "text/plain": [
              "<Figure size 432x288 with 1 Axes>"
            ]
          },
          "metadata": {
            "needs_background": "light"
          }
        },
        {
          "output_type": "display_data",
          "data": {
            "image/png": "[encoded data removed]",
            "text/plain": [
              "<Figure size 432x288 with 1 Axes>"
            ]
          },
          "metadata": {
            "needs_background": "light"
          }
        }
      ]
    },
    {
      "cell_type": "markdown",
      "metadata": {
        "id": "EQIxXDlfTvsX"
      },
      "source": [
        "Model Results Analysis"
      ]
    },
    {
      "cell_type": "code",
      "metadata": {
        "id": "eRQAlUxK7wls",
        "colab": {
          "base_uri": "https://localhost:8080/"
        },
        "outputId": "2993188e-df5f-4e2d-8041-911dee83f21e"
      },
      "source": [
        "model_1_pred_probs = model_4.predict(val_sentences)\n",
        "model_1_preds = tf.squeeze(tf.round(model_1_pred_probs))\n",
        "model_1_preds[:20]\n",
        "model_1_results = calculate_results(y_true=val_labels, \n",
        "                                    y_pred=model_1_preds)\n",
        "model_1_results"
      ],
      "execution_count": 29,
      "outputs": [
        {
          "output_type": "execute_result",
          "data": {
            "text/plain": [
              "{'accuracy': 76.37795275590551,\n",
              " 'f1': 0.7599542443739118,\n",
              " 'precision': 0.768889469729147,\n",
              " 'recall': 0.7637795275590551}"
            ]
          },
          "metadata": {},
          "execution_count": 29
        }
      ]
    },
    {
      "cell_type": "markdown",
      "metadata": {
        "id": "v7_NHTjFT3AA"
      },
      "source": [
        "**Experimenting with 1 dimensional Convolution neural network for Natural Language Processing**"
      ]
    },
    {
      "cell_type": "code",
      "metadata": {
        "id": "S7SbbMCG72eG",
        "colab": {
          "base_uri": "https://localhost:8080/"
        },
        "outputId": "62cfd913-9c66-42db-869c-d376b18d0e34"
      },
      "source": [
        "inp = layers.Input(shape=(1,),dtype=tf.string)\n",
        "x = text_vectorizer(inp)\n",
        "x = embedding(x)\n",
        "x = layers.Conv1D(64,5,1,activation=\"relu\",padding=\"same\")(x)\n",
        "x = layers.MaxPool1D()(x)\n",
        "x = layers.Conv1D(64,5,1,activation=\"relu\",padding=\"same\")(x)\n",
        "x = layers.MaxPool1D()(x)\n",
        "x = layers.Conv1D(64,5,1,activation=\"relu\",padding=\"same\")(x)\n",
        "x = layers.MaxPool1D()(x)\n",
        "outz = layers.Dense(1,activation=\"sigmoid\")(x)\n",
        "\n",
        "model_5= tf.keras.Model(inp,outz)\n",
        "model_5.summary()"
      ],
      "execution_count": 30,
      "outputs": [
        {
          "output_type": "stream",
          "name": "stdout",
          "text": [
            "Model: \"model_4\"\n",
            "_________________________________________________________________\n",
            "Layer (type)                 Output Shape              Param #   \n",
            "=================================================================\n",
            "input_5 (InputLayer)         [(None, 1)]               0         \n",
            "_________________________________________________________________\n",
            "text_vectorization_1 (TextVe (None, 15)                0         \n",
            "_________________________________________________________________\n",
            "embedding (Embedding)        (None, 15, 128)           1280000   \n",
            "_________________________________________________________________\n",
            "conv1d (Conv1D)              (None, 15, 64)            41024     \n",
            "_________________________________________________________________\n",
            "max_pooling1d (MaxPooling1D) (None, 7, 64)             0         \n",
            "_________________________________________________________________\n",
            "conv1d_1 (Conv1D)            (None, 7, 64)             20544     \n",
            "_________________________________________________________________\n",
            "max_pooling1d_1 (MaxPooling1 (None, 3, 64)             0         \n",
            "_________________________________________________________________\n",
            "conv1d_2 (Conv1D)            (None, 3, 64)             20544     \n",
            "_________________________________________________________________\n",
            "max_pooling1d_2 (MaxPooling1 (None, 1, 64)             0         \n",
            "_________________________________________________________________\n",
            "dense_5 (Dense)              (None, 1, 1)              65        \n",
            "=================================================================\n",
            "Total params: 1,362,177\n",
            "Trainable params: 1,362,177\n",
            "Non-trainable params: 0\n",
            "_________________________________________________________________\n"
          ]
        }
      ]
    },
    {
      "cell_type": "code",
      "metadata": {
        "id": "8vocdlFcAixA",
        "colab": {
          "base_uri": "https://localhost:8080/"
        },
        "outputId": "11229b5f-02d5-4c94-ac9c-7741ee993d53"
      },
      "source": [
        "model_5.compile(loss = \"binary_crossentropy\",\n",
        "                optimizer = tf.keras.optimizers.Adam(),\n",
        "                metrics = [\"accuracy\"])\n",
        "track5 = model_5.fit(train_sentences,train_labels, epochs = 5,\n",
        "                   validation_data = (val_sentences,val_labels),\n",
        "                   callbacks = [create_tensorboard_callback(\"trainin\",\"pento\")])"
      ],
      "execution_count": 31,
      "outputs": [
        {
          "output_type": "stream",
          "name": "stdout",
          "text": [
            "Saving TensorBoard log files to: trainin/pento/20211109-013742\n",
            "Epoch 1/5\n",
            "215/215 [==============================] - 30s 16ms/step - loss: 0.1098 - accuracy: 0.9610 - val_loss: 1.0774 - val_accuracy: 0.7585\n",
            "Epoch 2/5\n",
            "215/215 [==============================] - 2s 11ms/step - loss: 0.0511 - accuracy: 0.9774 - val_loss: 1.4313 - val_accuracy: 0.7546\n",
            "Epoch 3/5\n",
            "215/215 [==============================] - 2s 11ms/step - loss: 0.0418 - accuracy: 0.9791 - val_loss: 1.6088 - val_accuracy: 0.7572\n",
            "Epoch 4/5\n",
            "215/215 [==============================] - 2s 11ms/step - loss: 0.0395 - accuracy: 0.9810 - val_loss: 1.5429 - val_accuracy: 0.7625\n",
            "Epoch 5/5\n",
            "215/215 [==============================] - 2s 11ms/step - loss: 0.0382 - accuracy: 0.9815 - val_loss: 1.6428 - val_accuracy: 0.7572\n"
          ]
        }
      ]
    },
    {
      "cell_type": "markdown",
      "metadata": {
        "id": "yvBVteQ-UNqb"
      },
      "source": [
        "Plotting Loss Curves"
      ]
    },
    {
      "cell_type": "code",
      "metadata": {
        "id": "gbkrP3Q4ArkA",
        "colab": {
          "base_uri": "https://localhost:8080/",
          "height": 573
        },
        "outputId": "f3c5ef7b-93b9-4fa8-8963-56bae245d6d9"
      },
      "source": [
        "plot_loss_curves(track5)"
      ],
      "execution_count": 32,
      "outputs": [
        {
          "output_type": "display_data",
          "data": {
            "image/png": "[encoded data removed]",
            "text/plain": [
              "<Figure size 432x288 with 1 Axes>"
            ]
          },
          "metadata": {
            "needs_background": "light"
          }
        },
        {
          "output_type": "display_data",
          "data": {
            "image/png": "[encoded data removed]",
            "text/plain": [
              "<Figure size 432x288 with 1 Axes>"
            ]
          },
          "metadata": {
            "needs_background": "light"
          }
        }
      ]
    },
    {
      "cell_type": "markdown",
      "metadata": {
        "id": "LANqkKKUUQ7W"
      },
      "source": [
        "Model Results Analysis"
      ]
    },
    {
      "cell_type": "code",
      "metadata": {
        "id": "X-ol33sIAuuL",
        "colab": {
          "base_uri": "https://localhost:8080/"
        },
        "outputId": "9619607a-8f6f-42fe-c208-0a57a4bac46d"
      },
      "source": [
        "model_1_pred_probs = model_4.predict(val_sentences)\n",
        "model_1_preds = tf.squeeze(tf.round(model_1_pred_probs))\n",
        "model_1_preds[:20]\n",
        "model_1_results = calculate_results(y_true=val_labels, \n",
        "                                    y_pred=model_1_preds)\n",
        "model_1_results"
      ],
      "execution_count": 33,
      "outputs": [
        {
          "output_type": "execute_result",
          "data": {
            "text/plain": [
              "{'accuracy': 75.8530183727034,\n",
              " 'f1': 0.7549664582215014,\n",
              " 'precision': 0.7625739943565455,\n",
              " 'recall': 0.7585301837270341}"
            ]
          },
          "metadata": {},
          "execution_count": 33
        }
      ]
    },
    {
      "cell_type": "markdown",
      "metadata": {
        "id": "2-TQlyNAUZVT"
      },
      "source": [
        "**Experimenting with Universal Sentence Encoder**"
      ]
    },
    {
      "cell_type": "code",
      "metadata": {
        "id": "jC06G5jKAzh1"
      },
      "source": [
        "import tensorflow_hub as hub\n",
        "sEnc = hub.KerasLayer(\"https://tfhub.dev/google/universal-sentence-encoder/4\",\n",
        "                      input_shape=[],\n",
        "                      dtype = tf.string)"
      ],
      "execution_count": 34,
      "outputs": []
    },
    {
      "cell_type": "code",
      "metadata": {
        "id": "xx7uESQXFMoT",
        "colab": {
          "base_uri": "https://localhost:8080/"
        },
        "outputId": "d24d15fa-1cf0-4d0b-8ee0-2a7a0aec58d1"
      },
      "source": [
        "model_6 = tf.keras.Sequential([\n",
        "                               sEnc,\n",
        "                               layers.Dense(64,activation=\"relu\"),\n",
        "                               layers.Dense(1,activation=\"sigmoid\")\n",
        "])\n",
        "model_6.compile(loss = \"binary_crossentropy\",\n",
        "                optimizer = tf.keras.optimizers.Adam(),\n",
        "                metrics = [\"accuracy\"])\n",
        "model_6.summary()"
      ],
      "execution_count": 35,
      "outputs": [
        {
          "output_type": "stream",
          "name": "stdout",
          "text": [
            "Model: \"sequential\"\n",
            "_________________________________________________________________\n",
            "Layer (type)                 Output Shape              Param #   \n",
            "=================================================================\n",
            "keras_layer (KerasLayer)     (None, 512)               256797824 \n",
            "_________________________________________________________________\n",
            "dense_6 (Dense)              (None, 64)                32832     \n",
            "_________________________________________________________________\n",
            "dense_7 (Dense)              (None, 1)                 65        \n",
            "=================================================================\n",
            "Total params: 256,830,721\n",
            "Trainable params: 32,897\n",
            "Non-trainable params: 256,797,824\n",
            "_________________________________________________________________\n"
          ]
        }
      ]
    },
    {
      "cell_type": "code",
      "metadata": {
        "id": "ttihwC8dF6VS",
        "colab": {
          "base_uri": "https://localhost:8080/"
        },
        "outputId": "df2bf1d9-a3ae-47ab-9082-fd603b802f07"
      },
      "source": [
        "track6 = model_6.fit(train_sentences,train_labels, epochs = 5,\n",
        "                   validation_data = (val_sentences,val_labels),\n",
        "                   callbacks = [create_tensorboard_callback(\"trainin\",\"hexxa\")])"
      ],
      "execution_count": 36,
      "outputs": [
        {
          "output_type": "stream",
          "name": "stdout",
          "text": [
            "Saving TensorBoard log files to: trainin/hexxa/20211109-013845\n",
            "Epoch 1/5\n",
            "215/215 [==============================] - 9s 31ms/step - loss: 0.5056 - accuracy: 0.7758 - val_loss: 0.4498 - val_accuracy: 0.8005\n",
            "Epoch 2/5\n",
            "215/215 [==============================] - 5s 22ms/step - loss: 0.4152 - accuracy: 0.8151 - val_loss: 0.4395 - val_accuracy: 0.8045\n",
            "Epoch 3/5\n",
            "215/215 [==============================] - 5s 21ms/step - loss: 0.4011 - accuracy: 0.8248 - val_loss: 0.4317 - val_accuracy: 0.8150\n",
            "Epoch 4/5\n",
            "215/215 [==============================] - 5s 22ms/step - loss: 0.3918 - accuracy: 0.8260 - val_loss: 0.4292 - val_accuracy: 0.8150\n",
            "Epoch 5/5\n",
            "215/215 [==============================] - 5s 22ms/step - loss: 0.3842 - accuracy: 0.8300 - val_loss: 0.4240 - val_accuracy: 0.8176\n"
          ]
        }
      ]
    },
    {
      "cell_type": "markdown",
      "metadata": {
        "id": "jy4pmzdvUiH-"
      },
      "source": [
        "Plotting loss curves"
      ]
    },
    {
      "cell_type": "code",
      "metadata": {
        "id": "05sabkNEGD0d",
        "colab": {
          "base_uri": "https://localhost:8080/",
          "height": 573
        },
        "outputId": "4db5133b-0ad4-4c34-ce7f-5e2f0ff639fc"
      },
      "source": [
        "plot_loss_curves(track6)"
      ],
      "execution_count": 37,
      "outputs": [
        {
          "output_type": "display_data",
          "data": {
            "image/png": "[encoded data removed]",
            "text/plain": [
              "<Figure size 432x288 with 1 Axes>"
            ]
          },
          "metadata": {
            "needs_background": "light"
          }
        },
        {
          "output_type": "display_data",
          "data": {
            "image/png": "[encoded data removed]",
            "text/plain": [
              "<Figure size 432x288 with 1 Axes>"
            ]
          },
          "metadata": {
            "needs_background": "light"
          }
        }
      ]
    },
    {
      "cell_type": "markdown",
      "metadata": {
        "id": "b5rXNj38UkJD"
      },
      "source": [
        "Analysing Model results"
      ]
    },
    {
      "cell_type": "code",
      "metadata": {
        "id": "sUu0LCqnGAzK",
        "colab": {
          "base_uri": "https://localhost:8080/"
        },
        "outputId": "9b9dd6bf-fa4c-44f5-954b-6074f5aa7134"
      },
      "source": [
        "model_1_pred_probs = model_6.predict(val_sentences)\n",
        "model_1_preds = tf.squeeze(tf.round(model_1_pred_probs))\n",
        "model_1_preds[:20]\n",
        "model_1_results = calculate_results(y_true=val_labels, \n",
        "                                    y_pred=model_1_preds)\n",
        "model_1_results"
      ],
      "execution_count": 38,
      "outputs": [
        {
          "output_type": "execute_result",
          "data": {
            "text/plain": [
              "{'accuracy': 81.75853018372703,\n",
              " 'f1': 0.8164548892316194,\n",
              " 'precision': 0.8188543841314186,\n",
              " 'recall': 0.8175853018372703}"
            ]
          },
          "metadata": {},
          "execution_count": 38
        }
      ]
    },
    {
      "cell_type": "markdown",
      "metadata": {
        "id": "Aqi3C4L8UxPj"
      },
      "source": [
        "**Training on the Entire dataset with the best model**"
      ]
    },
    {
      "cell_type": "code",
      "metadata": {
        "id": "Dy62NOhLGGbY",
        "colab": {
          "base_uri": "https://localhost:8080/"
        },
        "outputId": "4530dd1d-1a49-4a20-afc8-fd6f13b483f0"
      },
      "source": [
        "train_sentences_90_percent, train_sentences_10_percent, train_labels_90_percent, train_labels_10_percent = train_test_split(np.array(train_sentences),\n",
        "                                                                                                                            train_labels,\n",
        "                                                                                                                            test_size=0.1,\n",
        "                                                                                                                            random_state=42)\n",
        "print(f\"Total training examples: {len(train_sentences)}\")\n",
        "print(f\"Length of 10% training examples: {len(train_sentences_10_percent)}\")"
      ],
      "execution_count": 39,
      "outputs": [
        {
          "output_type": "stream",
          "name": "stdout",
          "text": [
            "Total training examples: 6851\n",
            "Length of 10% training examples: 686\n"
          ]
        }
      ]
    },
    {
      "cell_type": "code",
      "metadata": {
        "id": "GldvVLxgIQ77",
        "colab": {
          "base_uri": "https://localhost:8080/"
        },
        "outputId": "6169e01b-d922-4b6b-e583-30af864d8546"
      },
      "source": [
        "model_7 = tf.keras.models.clone_model(model_6)\n",
        "model_7.compile(loss = \"binary_crossentropy\",\n",
        "                optimizer = tf.keras.optimizers.Adam(),\n",
        "                metrics = [\"accuracy\"])\n",
        "model_7.summary()"
      ],
      "execution_count": 40,
      "outputs": [
        {
          "output_type": "stream",
          "name": "stdout",
          "text": [
            "Model: \"sequential\"\n",
            "_________________________________________________________________\n",
            "Layer (type)                 Output Shape              Param #   \n",
            "=================================================================\n",
            "keras_layer (KerasLayer)     (None, 512)               256797824 \n",
            "_________________________________________________________________\n",
            "dense_6 (Dense)              (None, 64)                32832     \n",
            "_________________________________________________________________\n",
            "dense_7 (Dense)              (None, 1)                 65        \n",
            "=================================================================\n",
            "Total params: 256,830,721\n",
            "Trainable params: 32,897\n",
            "Non-trainable params: 256,797,824\n",
            "_________________________________________________________________\n"
          ]
        }
      ]
    },
    {
      "cell_type": "code",
      "metadata": {
        "id": "_H0BG5SPIxww",
        "colab": {
          "base_uri": "https://localhost:8080/"
        },
        "outputId": "a76856dd-325b-42a0-cab6-613d9d2ae4b8"
      },
      "source": [
        "track7 = model_7.fit(train_sentences_90_percent,train_labels_90_percent, epochs = 15,\n",
        "                   validation_data = (train_sentences_10_percent,train_labels_10_percent),\n",
        "                   callbacks = [create_tensorboard_callback(\"trainin\",\"idkwatz7\")])"
      ],
      "execution_count": 42,
      "outputs": [
        {
          "output_type": "stream",
          "name": "stdout",
          "text": [
            "Saving TensorBoard log files to: trainin/idkwatz7/20211109-013959\n",
            "Epoch 1/15\n",
            "193/193 [==============================] - 5s 25ms/step - loss: 0.3932 - accuracy: 0.8268 - val_loss: 0.3985 - val_accuracy: 0.8120\n",
            "Epoch 2/15\n",
            "193/193 [==============================] - 4s 22ms/step - loss: 0.3870 - accuracy: 0.8292 - val_loss: 0.3927 - val_accuracy: 0.8236\n",
            "Epoch 3/15\n",
            "193/193 [==============================] - 4s 22ms/step - loss: 0.3813 - accuracy: 0.8339 - val_loss: 0.3994 - val_accuracy: 0.8105\n",
            "Epoch 4/15\n",
            "193/193 [==============================] - 5s 24ms/step - loss: 0.3739 - accuracy: 0.8352 - val_loss: 0.3904 - val_accuracy: 0.8207\n",
            "Epoch 5/15\n",
            "193/193 [==============================] - 4s 22ms/step - loss: 0.3672 - accuracy: 0.8394 - val_loss: 0.3884 - val_accuracy: 0.8236\n",
            "Epoch 6/15\n",
            "193/193 [==============================] - 4s 21ms/step - loss: 0.3619 - accuracy: 0.8404 - val_loss: 0.3940 - val_accuracy: 0.8163\n",
            "Epoch 7/15\n",
            "193/193 [==============================] - 4s 23ms/step - loss: 0.3553 - accuracy: 0.8427 - val_loss: 0.3932 - val_accuracy: 0.8222\n",
            "Epoch 8/15\n",
            "193/193 [==============================] - 5s 23ms/step - loss: 0.3488 - accuracy: 0.8511 - val_loss: 0.4047 - val_accuracy: 0.8105\n",
            "Epoch 9/15\n",
            "193/193 [==============================] - 4s 22ms/step - loss: 0.3420 - accuracy: 0.8488 - val_loss: 0.3992 - val_accuracy: 0.8076\n",
            "Epoch 10/15\n",
            "193/193 [==============================] - 4s 22ms/step - loss: 0.3351 - accuracy: 0.8545 - val_loss: 0.3906 - val_accuracy: 0.8280\n",
            "Epoch 11/15\n",
            "193/193 [==============================] - 4s 23ms/step - loss: 0.3278 - accuracy: 0.8568 - val_loss: 0.3919 - val_accuracy: 0.8251\n",
            "Epoch 12/15\n",
            "193/193 [==============================] - 4s 22ms/step - loss: 0.3200 - accuracy: 0.8633 - val_loss: 0.4046 - val_accuracy: 0.8149\n",
            "Epoch 13/15\n",
            "193/193 [==============================] - 5s 23ms/step - loss: 0.3133 - accuracy: 0.8659 - val_loss: 0.3978 - val_accuracy: 0.8192\n",
            "Epoch 14/15\n",
            "193/193 [==============================] - 4s 21ms/step - loss: 0.3052 - accuracy: 0.8723 - val_loss: 0.4065 - val_accuracy: 0.8076\n",
            "Epoch 15/15\n",
            "193/193 [==============================] - 4s 23ms/step - loss: 0.2981 - accuracy: 0.8766 - val_loss: 0.3955 - val_accuracy: 0.8236\n"
          ]
        }
      ]
    },
    {
      "cell_type": "markdown",
      "metadata": {
        "id": "xEcAjzJfVHep"
      },
      "source": [
        "Plotting Loss Curves"
      ]
    },
    {
      "cell_type": "code",
      "metadata": {
        "colab": {
          "base_uri": "https://localhost:8080/",
          "height": 573
        },
        "id": "aWtiaVjkVEQT",
        "outputId": "4a385331-e641-4fdc-8399-55a5a0467e60"
      },
      "source": [
        "plot_loss_curves(track7)"
      ],
      "execution_count": 43,
      "outputs": [
        {
          "output_type": "display_data",
          "data": {
            "image/png": "[encoded data removed]",
            "text/plain": [
              "<Figure size 432x288 with 1 Axes>"
            ]
          },
          "metadata": {
            "needs_background": "light"
          }
        },
        {
          "output_type": "display_data",
          "data": {
            "image/png": "[encoded data removed]",
            "text/plain": [
              "<Figure size 432x288 with 1 Axes>"
            ]
          },
          "metadata": {
            "needs_background": "light"
          }
        }
      ]
    },
    {
      "cell_type": "markdown",
      "metadata": {
        "id": "haitxWbcVJJ5"
      },
      "source": [
        "Analysing Model Results"
      ]
    },
    {
      "cell_type": "code",
      "metadata": {
        "id": "FpBkjpxuJKSd",
        "colab": {
          "base_uri": "https://localhost:8080/"
        },
        "outputId": "8654ad07-3458-4608-fdf5-d03a801770d4"
      },
      "source": [
        "model_1_pred_probs = model_7.predict(val_sentences)\n",
        "model_1_preds = tf.squeeze(tf.round(model_1_pred_probs))\n",
        "model_1_preds[:20]\n",
        "model_1_results = calculate_results(y_true=val_labels, \n",
        "                                    y_pred=model_1_preds)\n",
        "model_1_results"
      ],
      "execution_count": 44,
      "outputs": [
        {
          "output_type": "execute_result",
          "data": {
            "text/plain": [
              "{'accuracy': 81.49606299212599,\n",
              " 'f1': 0.813013156274745,\n",
              " 'precision': 0.8186374796992019,\n",
              " 'recall': 0.8149606299212598}"
            ]
          },
          "metadata": {},
          "execution_count": 44
        }
      ]
    }
  ]
}